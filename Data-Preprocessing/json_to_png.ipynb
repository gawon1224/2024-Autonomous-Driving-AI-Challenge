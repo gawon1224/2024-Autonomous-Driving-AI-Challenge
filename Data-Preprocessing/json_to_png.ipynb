{
 "cells": [
  {
   "cell_type": "code",
   "execution_count": 1,
   "metadata": {},
   "outputs": [],
   "source": [
    "import json\n",
    "import os\n",
    "from PIL import Image\n",
    "import numpy as np\n",
    "import cv2"
   ]
  },
  {
   "cell_type": "code",
   "execution_count": 3,
   "metadata": {},
   "outputs": [],
   "source": [
    "# 클래스 이름을 숫자 레이블로 매핑하기 위한 사전 정의\n",
    "class_name_to_id = {\n",
    "\t\"road\": 1,\n",
    "\t\"sidewalk\": 2,\n",
    "    \"road roughness\": 3,\n",
    "\t\"road boundaries\": 4,\n",
    "\t\"crosswalks\": 5,\n",
    "\t\"lane\": 6,\n",
    "\t\"road color guide\": 7,\n",
    "\t\"road marking\": 8,\n",
    "\t\"parking\": 9,\n",
    "\t\"traffic sign\": 10,\n",
    "\t\"traffic light\": 11,\n",
    "\t\"pole/structural object\": 12,\n",
    "\t\"building\": 13,\n",
    "\t\"tunnel\": 14,\n",
    "\t\"bridge\": 15,\n",
    "\t\"pedestrian\": 16,\n",
    "\t\"vehicle\": 17,\n",
    "\t\"bicycle\": 18,\n",
    "\t\"motorcycle\": 19,\n",
    "\t\"personal mobility\": 20,\n",
    "\t\"dynamic\": 21,\n",
    "\t\"vegetation\": 22,\n",
    "\t\"sky\": 23,\n",
    "\t\"static\": 0\n",
    "}"
   ]
  },
  {
   "cell_type": "code",
   "execution_count": 4,
   "metadata": {},
   "outputs": [],
   "source": [
    "def json_to_png(json_path, png_path):\n",
    "    with open(json_path, 'r') as f:\n",
    "        data = json.load(f)\n",
    "    \n",
    "    width, height = data[\"image_size\"]\n",
    "    segmentation_map = np.zeros((height, width), dtype=np.uint8)\n",
    "    \n",
    "    for annotation in data['Annotation']:\n",
    "        class_name = annotation['class_name']\n",
    "        class_id = class_name_to_id.get(class_name, 0)  # 매핑되지 않은 클래스는 static으로 설정\n",
    "        for segment in annotation['data']:\n",
    "            if isinstance(segment, list):  # polygon 형태인지 확인\n",
    "                poly = np.array(segment).reshape((len(segment) // 2, 2))\n",
    "                poly = poly.astype(np.int32)\n",
    "                cv2.fillPoly(segmentation_map, [poly], class_id)\n",
    "    \n",
    "    Image.fromarray(segmentation_map).save(png_path)\n",
    "    return segmentation_map"
   ]
  },
  {
   "cell_type": "markdown",
   "metadata": {},
   "source": [
    "Test로 1개만 변환"
   ]
  },
  {
   "cell_type": "code",
   "execution_count": 5,
   "metadata": {},
   "outputs": [],
   "source": [
    "json_file = '/mnt/datasets/2DSS/2DSS/training/labels/E_DCG_230829_141_FC_008.json'\n",
    "\n",
    "if json_file.endswith('.json'):\n",
    "\tpng_file = json_file.replace('.json', '.png')\n",
    "\tsegmentation_map = json_to_png(json_file, png_file)"
   ]
  },
  {
   "cell_type": "code",
   "execution_count": 6,
   "metadata": {},
   "outputs": [
    {
     "data": {
      "text/plain": [
       "<matplotlib.image.AxesImage at 0x7f6791cde100>"
      ]
     },
     "execution_count": 6,
     "metadata": {},
     "output_type": "execute_result"
    },
    {
     "data": {
      "image/png": "[encoded data removed]",
      "text/plain": [
       "<Figure size 640x480 with 1 Axes>"
      ]
     },
     "metadata": {},
     "output_type": "display_data"
    }
   ],
   "source": [
    "import matplotlib.pyplot as plt\n",
    "plt.imshow(segmentation_map, cmap='tab20')"
   ]
  },
  {
   "cell_type": "markdown",
   "metadata": {},
   "source": [
    "전체 파일에 적용"
   ]
  },
  {
   "cell_type": "code",
   "execution_count": 5,
   "metadata": {},
   "outputs": [],
   "source": [
    "# Train label\n",
    "json_dir = '/mnt/datasets/2DSS/2DSS/training/labels'\n",
    "png_dir = '/mnt/datasets/2DSS/Preprocessed3/annotations/train'\n",
    "\n",
    "os.makedirs(png_dir, exist_ok=True)\n",
    "\n",
    "for json_file in os.listdir(json_dir):\n",
    "    if json_file.endswith('.json'):\n",
    "        json_path = os.path.join(json_dir, json_file)\n",
    "        png_path = os.path.join(png_dir, json_file.replace('.json', '.png'))\n",
    "        segmentation_map = json_to_png(json_path, png_path)\n",
    "        \n",
    "        # PNG 파일 시각화\n",
    "        # plt.imshow(segmentation_map, cmap='tab20')\n",
    "        # plt.colorbar()\n",
    "        # plt.title(json_file)\n",
    "        # plt.show()"
   ]
  },
  {
   "cell_type": "code",
   "execution_count": 6,
   "metadata": {},
   "outputs": [],
   "source": [
    "# Validation label\n",
    "json_dir = '/mnt/datasets/2DSS/2DSS/validation/labels'\n",
    "png_dir = '/mnt/datasets/2DSS/Preprocessed3/annotations/val'\n",
    "\n",
    "os.makedirs(png_dir, exist_ok=True)\n",
    "\n",
    "for json_file in os.listdir(json_dir):\n",
    "    if json_file.endswith('.json'):\n",
    "        json_path = os.path.join(json_dir, json_file)\n",
    "        png_path = os.path.join(png_dir, json_file.replace('.json', '.png'))\n",
    "        segmentation_map = json_to_png(json_path, png_path)\n",
    "        \n",
    "        # PNG 파일 시각화\n",
    "        # plt.imshow(segmentation_map, cmap='tab20')\n",
    "        # plt.colorbar()\n",
    "        # plt.title(json_file)\n",
    "        # plt.show()"
   ]
  },
  {
   "cell_type": "code",
   "execution_count": 7,
   "metadata": {},
   "outputs": [],
   "source": [
    "# Test label\n",
    "json_dir = '/mnt/datasets/2DSS/2DSS/test/labels'\n",
    "png_dir = '/mnt/datasets/2DSS/Preprocessed3/annotations/test'\n",
    "\n",
    "os.makedirs(png_dir, exist_ok=True)\n",
    "\n",
    "for json_file in os.listdir(json_dir):\n",
    "    if json_file.endswith('.json'):\n",
    "        json_path = os.path.join(json_dir, json_file)\n",
    "        png_path = os.path.join(png_dir, json_file.replace('.json', '.png'))\n",
    "        segmentation_map = json_to_png(json_path, png_path)\n",
    "        \n",
    "        # PNG 파일 시각화\n",
    "        # plt.imshow(segmentation_map, cmap='tab20')\n",
    "        # plt.colorbar()\n",
    "        # plt.title(json_file)\n",
    "        # plt.show()"
   ]
  }
 ],
 "metadata": {
  "kernelspec": {
   "display_name": "internimage",
   "language": "python",
   "name": "python3"
  },
  "language_info": {
   "codemirror_mode": {
    "name": "ipython",
    "version": 3
   },
   "file_extension": ".py",
   "mimetype": "text/x-python",
   "name": "python",
   "nbconvert_exporter": "python",
   "pygments_lexer": "ipython3",
   "version": "3.8.19"
  }
 },
 "nbformat": 4,
 "nbformat_minor": 2
}
