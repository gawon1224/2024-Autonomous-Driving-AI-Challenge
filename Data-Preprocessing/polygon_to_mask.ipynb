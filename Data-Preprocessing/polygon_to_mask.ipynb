{
 "cells": [
  {
   "cell_type": "code",
   "execution_count": 1,
   "metadata": {},
   "outputs": [],
   "source": [
    "# Install extra dependencies\n",
    "# !pip install -q torchinfo accelerate tqdm\n",
    "\n",
    "import os\n",
    "import json\n",
    "import pandas as pd # data processing, CSV file I/O (e.g. pd.read_csv)\n",
    "import numpy as np # linear algebra\n",
    "\n",
    "# pytorch dependency\n",
    "import torch \n",
    "import torchvision\n",
    "import torch.nn as nn\n",
    "import torch.nn.functional as F \n",
    "import torch.optim as optim\n",
    "from torch import Tensor\n",
    "\n",
    "# HuggingFace accelerate library\n",
    "from accelerate import Accelerator # (easy support for multiple GPU's, TPU, floating point 16s, which makes training much faster)\n",
    "\n",
    "# displaying the pytorch architecture (makes prototyping the network easier, as it shows shapes)\n",
    "from torchinfo import summary\n",
    "\n",
    "# plotting the results\n",
    "import matplotlib.pyplot as plt\n",
    "import seaborn as sns \n",
    "\n",
    "# creatation and transformations for the dataset\n",
    "from torch.utils.data import Dataset\n",
    "from torch.utils.data import DataLoader\n",
    "import torchvision.transforms as transforms\n",
    "\n",
    "from PIL import Image, ImageDraw\n",
    "\n",
    "from collections import defaultdict\n",
    "\n",
    "from IPython.display import clear_output\n",
    "\n",
    "# show nice progress bar\n",
    "from tqdm.notebook import tqdm\n",
    "\n",
    "from time import time\n",
    "\n",
    "import cv2"
   ]
  },
  {
   "cell_type": "code",
   "execution_count": 2,
   "metadata": {},
   "outputs": [],
   "source": [
    "train_image_datapath = '/mnt/datasets/2DSS/2DSS/training/images'\n",
    "train_mask_datapath = '/mnt/datasets/2DSS/2DSS/training/labels'\n",
    "val_image_datapath = '/mnt/datasets/2DSS/2DSS/validation/images'\n",
    "val_mask_datapath = '/mnt/datasets/2DSS/2DSS/validation/labels'\n",
    "test_image_datapath = '/mnt/datasets/2DSS/2DSS/test/images'\n",
    "test_mask_datapath = '/mnt/datasets/2DSS/2DSS/test/labels'"
   ]
  },
  {
   "cell_type": "code",
   "execution_count": 3,
   "metadata": {},
   "outputs": [
    {
     "name": "stdout",
     "output_type": "stream",
     "text": [
      "size of training images : 12000\n",
      "size of validation images : 1500\n",
      "size of training masks : 12000\n",
      "size of validation masks : 1500\n",
      "size of test images : 1500\n",
      "size of test masks : 1500\n"
     ]
    }
   ],
   "source": [
    "# list all, full datapaths for training and validation images and save them in these variables\n",
    "training_images_paths = [os.path.join(train_image_datapath, f) for f in os.listdir(train_image_datapath)]\n",
    "validation_images_paths = [os.path.join(val_image_datapath, f) for f in os.listdir(val_image_datapath)]\n",
    "training_masks_paths = [os.path.join(train_mask_datapath, f) for f in os.listdir(train_mask_datapath)]\n",
    "validation_masks_paths = [os.path.join(val_mask_datapath, f) for f in os.listdir(val_mask_datapath)]\n",
    "test_images_paths = [os.path.join(test_image_datapath, f) for f in os.listdir(test_image_datapath)]\n",
    "test_masks_paths = [os.path.join(test_mask_datapath, f) for f in os.listdir(test_mask_datapath)]\n",
    "# sanity check, how many images & masks\n",
    "print(f\"size of training images : {len(training_images_paths)}\")\n",
    "print(f\"size of validation images : {len(validation_images_paths)}\")\n",
    "print(f\"size of training masks : {len(training_masks_paths)}\")\n",
    "print(f\"size of validation masks : {len(validation_masks_paths)}\")\n",
    "print(f\"size of test images : {len(test_images_paths)}\")\n",
    "print(f\"size of test masks : {len(test_masks_paths)}\")"
   ]
  },
  {
   "cell_type": "code",
   "execution_count": 4,
   "metadata": {},
   "outputs": [],
   "source": [
    "import os\n",
    "import json\n",
    "import numpy as np\n",
    "import cv2\n",
    "\n",
    "def create_mask_from_annotations(json_paths):\n",
    "    \"\"\"\n",
    "    주어진 JSON 파일에서 폴리곤 좌표를 읽고, 클래스 우선순위에 따라 마스크를 생성하여 저장하는 함수\n",
    "\n",
    "    Args:\n",
    "        json_paths (list of str): JSON 파일 경로 리스트\n",
    "    \"\"\"\n",
    "    try:\n",
    "        # 디렉토리 내 모든 JSON 파일 순회\n",
    "        mask_list = []\n",
    "        for json_path in json_paths:\n",
    "            if json_path.endswith('.json'):\n",
    "                # JSON 파일 로드\n",
    "                with open(json_path, 'r') as f:\n",
    "                    data = json.load(f)\n",
    "\n",
    "                image_name = data['image_name']\n",
    "                image_size = data['image_size']\n",
    "                annotations = data['Annotation']\n",
    "\n",
    "                # 클래스 이름에 대한 고유한 클래스 ID 생성\n",
    "                class_ids = {}\n",
    "                current_id = 1  # 클래스 ID는 1부터 시작 (0은 배경)\n",
    "\n",
    "                # 이미지 크기 설정\n",
    "                image_width, image_height = image_size\n",
    "\n",
    "                # 빈 마스크 생성                \n",
    "                mask = np.zeros((image_height, image_width), dtype=np.uint8)\n",
    "\n",
    "                # 폴리곤 그리기 (JSON 파일에 저장된 순서대로)\n",
    "                for annotation in annotations:\n",
    "                    class_name = annotation['class_name']\n",
    "                    if class_name not in class_ids:\n",
    "                        class_ids[class_name] = current_id\n",
    "                        current_id += 1\n",
    "                    class_id = class_ids[class_name]\n",
    "\n",
    "                    for poly in annotation['data']:\n",
    "                        polygon = np.array(poly, dtype=np.int32).reshape((-1, 2))\n",
    "                        cv2.fillPoly(mask, [polygon], class_id)\n",
    "\n",
    "                mask_list.append(mask)\n",
    "\n",
    "    except Exception as e:\n",
    "        print(f\"An error occurred: {e}\")\n",
    "\n",
    "    return mask_list\n"
   ]
  },
  {
   "cell_type": "code",
   "execution_count": 5,
   "metadata": {},
   "outputs": [],
   "source": [
    "train_masks = create_mask_from_annotations(training_masks_paths)"
   ]
  },
  {
   "cell_type": "code",
   "execution_count": 6,
   "metadata": {},
   "outputs": [
    {
     "name": "stdout",
     "output_type": "stream",
     "text": [
      "Generated 12000 masks\n"
     ]
    }
   ],
   "source": [
    "print(f\"Generated {len(train_masks)} masks\")"
   ]
  },
  {
   "cell_type": "code",
   "execution_count": 7,
   "metadata": {},
   "outputs": [],
   "source": [
    "val_masks = create_mask_from_annotations(validation_masks_paths)"
   ]
  },
  {
   "cell_type": "code",
   "execution_count": 8,
   "metadata": {},
   "outputs": [
    {
     "name": "stdout",
     "output_type": "stream",
     "text": [
      "Generated 1500 masks\n"
     ]
    }
   ],
   "source": [
    "print(f\"Generated {len(val_masks)} masks\")"
   ]
  },
  {
   "cell_type": "code",
   "execution_count": 9,
   "metadata": {},
   "outputs": [],
   "source": [
    "test_masks = create_mask_from_annotations(test_masks_paths)"
   ]
  },
  {
   "cell_type": "code",
   "execution_count": 10,
   "metadata": {},
   "outputs": [
    {
     "name": "stdout",
     "output_type": "stream",
     "text": [
      "Generated 1500 masks\n"
     ]
    }
   ],
   "source": [
    "print(f\"Generated {len(test_masks)} masks\")"
   ]
  },
  {
   "cell_type": "code",
   "execution_count": 11,
   "metadata": {},
   "outputs": [
    {
     "data": {
      "image/png": "[encoded data removed]",
      "text/plain": [
       "<Figure size 640x480 with 1 Axes>"
      ]
     },
     "metadata": {},
     "output_type": "display_data"
    }
   ],
   "source": [
    "# 시각화\n",
    "plt.imshow(train_masks[105], cmap='jet')\n",
    "plt.show()"
   ]
  },
  {
   "cell_type": "code",
   "execution_count": null,
   "metadata": {},
   "outputs": [],
   "source": []
  }
 ],
 "metadata": {
  "kernelspec": {
   "display_name": "openmmlab",
   "language": "python",
   "name": "python3"
  },
  "language_info": {
   "codemirror_mode": {
    "name": "ipython",
    "version": 3
   },
   "file_extension": ".py",
   "mimetype": "text/x-python",
   "name": "python",
   "nbconvert_exporter": "python",
   "pygments_lexer": "ipython3",
   "version": "3.12.4"
  }
 },
 "nbformat": 4,
 "nbformat_minor": 2
}
