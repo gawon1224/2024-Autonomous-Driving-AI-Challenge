{
 "cells": [
  {
   "cell_type": "markdown",
   "metadata": {},
   "source": [
    "# **제출용**"
   ]
  },
  {
   "cell_type": "markdown",
   "metadata": {},
   "source": [
    "### 함수"
   ]
  },
  {
   "cell_type": "code",
   "execution_count": 1,
   "metadata": {},
   "outputs": [],
   "source": [
    "import os\n",
    "\n",
    "def get_file_names_without_extension(directory, extension):\n",
    "    return {os.path.splitext(file)[0] for file in os.listdir(directory) if file.endswith(extension)}\n",
    "\n",
    "def compare_directories(dir1, ext1, dir2, ext2):\n",
    "    files1 = get_file_names_without_extension(dir1, ext1)\n",
    "    files2 = get_file_names_without_extension(dir2, ext2)\n",
    "    \n",
    "    different_files = files1.symmetric_difference(files2)\n",
    "    return len(different_files), sorted(different_files)"
   ]
  },
  {
   "cell_type": "markdown",
   "metadata": {},
   "source": [
    "### Train dataset"
   ]
  },
  {
   "cell_type": "code",
   "execution_count": 2,
   "metadata": {},
   "outputs": [
    {
     "name": "stdout",
     "output_type": "stream",
     "text": [
      "서로 다른 파일 이름의 개수: 80\n",
      "서로 다른 파일 이름들:\n",
      "S_DRG_230629_008_FC_007\n",
      "S_DRG_230629_008_FC_020\n",
      "S_DRG_230629_008_FC_033\n",
      "S_DRG_230629_008_FC_046\n",
      "S_DRG_230629_008_FC_059\n",
      "S_DRG_230629_008_FC_073\n",
      "S_DRG_230629_008_FC_099\n",
      "S_DRG_230629_008_FC_112\n",
      "S_DRG_230629_008_FC_125\n",
      "S_DRG_230629_008_FC_139\n",
      "S_DRG_230629_008_FC_152\n",
      "S_DRG_230629_008_FC_178\n",
      "S_DRG_230629_008_FC_191\n",
      "S_DRG_230629_008_FC_205\n",
      "S_DRG_230629_008_FC_218\n",
      "S_DRG_230629_008_FC_231\n",
      "S_DRG_230629_008_FC_244\n",
      "S_DRG_230629_008_FC_257\n",
      "S_DRG_230629_008_FC_271\n",
      "S_DRG_230629_008_FC_284\n",
      "S_DRG_230629_009_FC_007\n",
      "S_DRG_230629_009_FC_020\n",
      "S_DRG_230629_009_FC_033\n",
      "S_DRG_230629_009_FC_046\n",
      "S_DRG_230629_009_FC_059\n",
      "S_DRG_230629_009_FC_073\n",
      "S_DRG_230629_009_FC_086\n",
      "S_DRG_230629_009_FC_112\n",
      "S_DRG_230629_009_FC_125\n",
      "S_DRG_230629_009_FC_139\n",
      "S_DRG_230629_009_FC_152\n",
      "S_DRG_230629_009_FC_165\n",
      "S_DRG_230629_009_FC_178\n",
      "S_DRG_230629_009_FC_191\n",
      "S_DRG_230629_009_FC_205\n",
      "S_DRG_230629_009_FC_218\n",
      "S_DRG_230629_009_FC_231\n",
      "S_DRG_230629_009_FC_244\n",
      "S_DRG_230629_009_FC_257\n",
      "S_DRG_230629_009_FC_271\n",
      "S_DRR_230629_008_FC_007\n",
      "S_DRR_230629_008_FC_020\n",
      "S_DRR_230629_008_FC_033\n",
      "S_DRR_230629_008_FC_046\n",
      "S_DRR_230629_008_FC_059\n",
      "S_DRR_230629_008_FC_073\n",
      "S_DRR_230629_008_FC_099\n",
      "S_DRR_230629_008_FC_112\n",
      "S_DRR_230629_008_FC_125\n",
      "S_DRR_230629_008_FC_139\n",
      "S_DRR_230629_008_FC_152\n",
      "S_DRR_230629_008_FC_178\n",
      "S_DRR_230629_008_FC_191\n",
      "S_DRR_230629_008_FC_205\n",
      "S_DRR_230629_008_FC_218\n",
      "S_DRR_230629_008_FC_231\n",
      "S_DRR_230629_008_FC_244\n",
      "S_DRR_230629_008_FC_257\n",
      "S_DRR_230629_008_FC_271\n",
      "S_DRR_230629_008_FC_284\n",
      "S_DRR_230629_009_FC_007\n",
      "S_DRR_230629_009_FC_020\n",
      "S_DRR_230629_009_FC_033\n",
      "S_DRR_230629_009_FC_046\n",
      "S_DRR_230629_009_FC_059\n",
      "S_DRR_230629_009_FC_073\n",
      "S_DRR_230629_009_FC_086\n",
      "S_DRR_230629_009_FC_112\n",
      "S_DRR_230629_009_FC_125\n",
      "S_DRR_230629_009_FC_139\n",
      "S_DRR_230629_009_FC_152\n",
      "S_DRR_230629_009_FC_165\n",
      "S_DRR_230629_009_FC_178\n",
      "S_DRR_230629_009_FC_191\n",
      "S_DRR_230629_009_FC_205\n",
      "S_DRR_230629_009_FC_218\n",
      "S_DRR_230629_009_FC_231\n",
      "S_DRR_230629_009_FC_244\n",
      "S_DRR_230629_009_FC_257\n",
      "S_DRR_230629_009_FC_271\n"
     ]
    }
   ],
   "source": [
    "# Train dataset 경로\n",
    "directory1 = '/mnt/datasets/2DSS/2DSS/training/images'\n",
    "directory2 = '/mnt/datasets/2DSS/2DSS/training/labels'\n",
    "\n",
    "# 비교 수행\n",
    "count, different_files = compare_directories(directory1, '.jpg', directory2, '.json')\n",
    "\n",
    "print(f\"서로 다른 파일 이름의 개수: {count}\")\n",
    "print(\"서로 다른 파일 이름들:\")\n",
    "for file in different_files:\n",
    "    print(file)"
   ]
  },
  {
   "cell_type": "markdown",
   "metadata": {},
   "source": [
    "### Validation dataset"
   ]
  },
  {
   "cell_type": "code",
   "execution_count": 3,
   "metadata": {},
   "outputs": [
    {
     "name": "stdout",
     "output_type": "stream",
     "text": [
      "서로 다른 파일 이름의 개수: 2\n",
      "서로 다른 파일 이름들:\n",
      "S_DRG_230629_008_FC_165\n",
      "S_DRR_230629_008_FC_165\n"
     ]
    }
   ],
   "source": [
    "# Validation dataset 경로\n",
    "directory1 = '/mnt/datasets/2DSS/2DSS/validation/images'\n",
    "directory2 = '/mnt/datasets/2DSS/2DSS/validation/labels'\n",
    "\n",
    "# 비교 수행\n",
    "count, different_files = compare_directories(directory1, '.jpg', directory2, '.json')\n",
    "\n",
    "print(f\"서로 다른 파일 이름의 개수: {count}\")\n",
    "print(\"서로 다른 파일 이름들:\")\n",
    "for file in different_files:\n",
    "    print(file)"
   ]
  },
  {
   "cell_type": "markdown",
   "metadata": {},
   "source": [
    "### Test dataset"
   ]
  },
  {
   "cell_type": "code",
   "execution_count": 4,
   "metadata": {},
   "outputs": [
    {
     "name": "stdout",
     "output_type": "stream",
     "text": [
      "서로 다른 파일 이름의 개수: 6\n",
      "서로 다른 파일 이름들:\n",
      "S_DRG_230629_008_FC_086\n",
      "S_DRG_230629_009_FC_099\n",
      "S_DRG_230629_009_FC_284\n",
      "S_DRR_230629_008_FC_086\n",
      "S_DRR_230629_009_FC_099\n",
      "S_DRR_230629_009_FC_284\n"
     ]
    }
   ],
   "source": [
    "# Test dataset 경로\n",
    "directory1 = '/mnt/datasets/2DSS/2DSS/test/images'\n",
    "directory2 = '/mnt/datasets/2DSS/2DSS/test/labels'\n",
    "\n",
    "# 비교 수행\n",
    "count, different_files = compare_directories(directory1, '.jpg', directory2, '.json')\n",
    "\n",
    "print(f\"서로 다른 파일 이름의 개수: {count}\")\n",
    "print(\"서로 다른 파일 이름들:\")\n",
    "for file in different_files:\n",
    "    print(file)"
   ]
  },
  {
   "cell_type": "markdown",
   "metadata": {},
   "source": [
    "## 이름 변경"
   ]
  },
  {
   "cell_type": "markdown",
   "metadata": {},
   "source": [
    "### Train dataset"
   ]
  },
  {
   "cell_type": "code",
   "execution_count": null,
   "metadata": {},
   "outputs": [],
   "source": [
    "import os\n",
    "\n",
    "# 디렉토리 경로를 여기에 입력하세요\n",
    "directory = '/mnt/datasets/2DSS/Preprocessed3/annotations/train'\n",
    "\n",
    "# 디렉토리 내의 파일 목록을 가져옵니다\n",
    "for filename in os.listdir(directory):\n",
    "    # 파일 이름이 \"S_DRG\"로 시작하는 경우\n",
    "    if filename.startswith('S_DRG'):\n",
    "        # 새로운 파일 이름을 만듭니다\n",
    "        new_filename = filename.replace('S_DRG', 'S_DRR', 1)\n",
    "        # 파일의 전체 경로를 만듭니다\n",
    "        old_file = os.path.join(directory, filename)\n",
    "        new_file = os.path.join(directory, new_filename)\n",
    "        # 파일 이름을 변경합니다\n",
    "        os.rename(old_file, new_file)\n",
    "        print(f\"{old_file}->{new_file} 파일 이름 변경이 완료되었습니다.\")"
   ]
  },
  {
   "cell_type": "markdown",
   "metadata": {},
   "source": [
    "### Validation dataset"
   ]
  },
  {
   "cell_type": "code",
   "execution_count": null,
   "metadata": {},
   "outputs": [],
   "source": [
    "import os\n",
    "\n",
    "# 디렉토리 경로를 여기에 입력하세요\n",
    "directory = '/mnt/datasets/2DSS/Preprocessed3/annotations/train'\n",
    "\n",
    "# 디렉토리 내의 파일 목록을 가져옵니다\n",
    "for filename in os.listdir(directory):\n",
    "    # 파일 이름이 \"S_DRG\"로 시작하는 경우\n",
    "    if filename.startswith('S_DRG'):\n",
    "        # 새로운 파일 이름을 만듭니다\n",
    "        new_filename = filename.replace('S_DRG', 'S_DRR', 1)\n",
    "        # 파일의 전체 경로를 만듭니다\n",
    "        old_file = os.path.join(directory, filename)\n",
    "        new_file = os.path.join(directory, new_filename)\n",
    "        # 파일 이름을 변경합니다\n",
    "        os.rename(old_file, new_file)\n",
    "        print(f\"{old_file}->{new_file} 파일 이름 변경이 완료되었습니다.\")"
   ]
  },
  {
   "cell_type": "markdown",
   "metadata": {},
   "source": [
    "### Test dataset"
   ]
  },
  {
   "cell_type": "code",
   "execution_count": null,
   "metadata": {},
   "outputs": [],
   "source": [
    "import os\n",
    "\n",
    "# 디렉토리 경로를 여기에 입력하세요\n",
    "directory = '/mnt/datasets/2DSS/Preprocessed3/annotations/train'\n",
    "\n",
    "# 디렉토리 내의 파일 목록을 가져옵니다\n",
    "for filename in os.listdir(directory):\n",
    "    # 파일 이름이 \"S_DRG\"로 시작하는 경우\n",
    "    if filename.startswith('S_DRG'):\n",
    "        # 새로운 파일 이름을 만듭니다\n",
    "        new_filename = filename.replace('S_DRG', 'S_DRR', 1)\n",
    "        # 파일의 전체 경로를 만듭니다\n",
    "        old_file = os.path.join(directory, filename)\n",
    "        new_file = os.path.join(directory, new_filename)\n",
    "        # 파일 이름을 변경합니다\n",
    "        os.rename(old_file, new_file)\n",
    "        print(f\"{old_file}->{new_file} 파일 이름 변경이 완료되었습니다.\")"
   ]
  },
  {
   "cell_type": "markdown",
   "metadata": {},
   "source": [
    "# **아래는 실험 돌릴 때 사용한 코드들**"
   ]
  },
  {
   "cell_type": "code",
   "execution_count": 3,
   "metadata": {},
   "outputs": [
    {
     "name": "stdout",
     "output_type": "stream",
     "text": [
      "서로 다른 파일 이름의 개수: 0\n",
      "서로 다른 파일 이름들:\n"
     ]
    }
   ],
   "source": [
    "import os\n",
    "\n",
    "def get_file_names_without_extension(directory, extension):\n",
    "    return {os.path.splitext(file)[0] for file in os.listdir(directory) if file.endswith(extension)}\n",
    "\n",
    "def compare_directories(dir1, ext1, dir2, ext2):\n",
    "    files1 = get_file_names_without_extension(dir1, ext1)\n",
    "    files2 = get_file_names_without_extension(dir2, ext2)\n",
    "    \n",
    "    different_files = files1.symmetric_difference(files2)\n",
    "    return len(different_files), sorted(different_files)\n",
    "\n",
    "# 예시 디렉토리 경로 (필요에 맞게 변경)\n",
    "directory1 = '/mnt/datasets/2DSS/Preprocessed3/images/train'\n",
    "directory2 = '/mnt/datasets/2DSS/Preprocessed3/annotations/train'\n",
    "\n",
    "# 비교 수행\n",
    "count, different_files = compare_directories(directory1, '.jpg', directory2, '.png')\n",
    "\n",
    "print(f\"서로 다른 파일 이름의 개수: {count}\")\n",
    "print(\"서로 다른 파일 이름들:\")\n",
    "for file in different_files:\n",
    "    print(file)"
   ]
  },
  {
   "cell_type": "code",
   "execution_count": 4,
   "metadata": {},
   "outputs": [
    {
     "name": "stdout",
     "output_type": "stream",
     "text": [
      "서로 다른 파일 이름의 개수: 2\n",
      "서로 다른 파일 이름들:\n",
      "S_DRR_230629_008_FC_165\n",
      "S_DRG_230629_008_FC_165\n"
     ]
    }
   ],
   "source": [
    "# 예시 디렉토리 경로 (필요에 맞게 변경)\n",
    "directory1 = '/mnt/datasets/2DSS/Preprocessed3/images/val'\n",
    "directory2 = '/mnt/datasets/2DSS/Preprocessed3/annotations/val'\n",
    "\n",
    "# 비교 수행\n",
    "count, different_files = compare_directories(directory1, '.jpg', directory2, '.png')\n",
    "\n",
    "print(f\"서로 다른 파일 이름의 개수: {count}\")\n",
    "print(\"서로 다른 파일 이름들:\")\n",
    "for file in different_files:\n",
    "    print(file)"
   ]
  },
  {
   "cell_type": "code",
   "execution_count": 5,
   "metadata": {},
   "outputs": [
    {
     "name": "stdout",
     "output_type": "stream",
     "text": [
      "서로 다른 파일 이름의 개수: 6\n",
      "서로 다른 파일 이름들:\n",
      "S_DRG_230629_008_FC_086\n",
      "S_DRR_230629_009_FC_284\n",
      "S_DRG_230629_009_FC_099\n",
      "S_DRR_230629_009_FC_099\n",
      "S_DRG_230629_009_FC_284\n",
      "S_DRR_230629_008_FC_086\n"
     ]
    }
   ],
   "source": [
    "# 예시 디렉토리 경로 (필요에 맞게 변경)\n",
    "directory1 = '/mnt/datasets/2DSS/Preprocessed3/images/test'\n",
    "directory2 = '/mnt/datasets/2DSS/Preprocessed3/annotations/test'\n",
    "\n",
    "# 비교 수행\n",
    "count, different_files = compare_directories(directory1, '.jpg', directory2, '.png')\n",
    "\n",
    "print(f\"서로 다른 파일 이름의 개수: {count}\")\n",
    "print(\"서로 다른 파일 이름들:\")\n",
    "for file in different_files:\n",
    "    print(file)"
   ]
  },
  {
   "cell_type": "code",
   "execution_count": null,
   "metadata": {},
   "outputs": [],
   "source": [
    "# bash 명령어. Python 아님.\n",
    "for file in S_DRG*; do\n",
    "    mv \"$file\" \"${file/S_DRG/S_DRR}\"\n",
    "done"
   ]
  },
  {
   "cell_type": "code",
   "execution_count": 7,
   "metadata": {},
   "outputs": [],
   "source": [
    "import os\n",
    "\n",
    "# 디렉토리 경로를 여기에 입력하세요\n",
    "directory = '/mnt/datasets/2DSS/Preprocessed3/annotations/train'\n",
    "\n",
    "# 디렉토리 내의 파일 목록을 가져옵니다\n",
    "for filename in os.listdir(directory):\n",
    "    # 파일 이름이 \"S_DRG\"로 시작하는 경우\n",
    "    if filename.startswith('S_DRG'):\n",
    "        # 새로운 파일 이름을 만듭니다\n",
    "        new_filename = filename.replace('S_DRG', 'S_DRR', 1)\n",
    "        # 파일의 전체 경로를 만듭니다\n",
    "        old_file = os.path.join(directory, filename)\n",
    "        new_file = os.path.join(directory, new_filename)\n",
    "        # 파일 이름을 변경합니다\n",
    "        os.rename(old_file, new_file)\n",
    "        print(f\"{old_file}->{new_file} 파일 이름 변경이 완료되었습니다.\")"
   ]
  },
  {
   "cell_type": "code",
   "execution_count": 8,
   "metadata": {},
   "outputs": [],
   "source": [
    "import os\n",
    "\n",
    "# 디렉토리 경로를 여기에 입력하세요\n",
    "directory = '/mnt/datasets/2DSS/Preprocessed3/annotations/val'\n",
    "\n",
    "# 디렉토리 내의 파일 목록을 가져옵니다\n",
    "for filename in os.listdir(directory):\n",
    "    # 파일 이름이 \"S_DRG\"로 시작하는 경우\n",
    "    if filename.startswith('S_DRG'):\n",
    "        # 새로운 파일 이름을 만듭니다\n",
    "        new_filename = filename.replace('S_DRG', 'S_DRR', 1)\n",
    "        # 파일의 전체 경로를 만듭니다\n",
    "        old_file = os.path.join(directory, filename)\n",
    "        new_file = os.path.join(directory, new_filename)\n",
    "        # 파일 이름을 변경합니다\n",
    "        os.rename(old_file, new_file)\n",
    "        print(f\"{old_file}->{new_file} 파일 이름 변경이 완료되었습니다.\")"
   ]
  },
  {
   "cell_type": "code",
   "execution_count": 11,
   "metadata": {},
   "outputs": [
    {
     "name": "stdout",
     "output_type": "stream",
     "text": [
      "/mnt/datasets/2DSS/Preprocessed3/annotations/test/S_DRG_230629_008_FC_086.png -> /mnt/datasets/2DSS/Preprocessed3/annotations/test/S_DRR_230629_008_FC_086.png 파일 이름 변경이 완료되었습니다.\n"
     ]
    }
   ],
   "source": [
    "import os\n",
    "\n",
    "# 디렉토리 경로를 여기에 입력하세요\n",
    "directory = '/mnt/datasets/2DSS/Preprocessed3/annotations/test'\n",
    "\n",
    "# 디렉토리 내의 파일 목록을 가져옵니다\n",
    "for filename in os.listdir(directory):\n",
    "    # 파일 이름이 \"S_DRG\"로 시작하는 경우\n",
    "    if filename.startswith('S_DRG'):\n",
    "        # 새로운 파일 이름을 만듭니다\n",
    "        new_filename = filename.replace('S_DRG', 'S_DRR', 1)\n",
    "        # 파일의 전체 경로를 만듭니다\n",
    "        old_file = os.path.join(directory, filename)\n",
    "        new_file = os.path.join(directory, new_filename)\n",
    "        # 파일 이름을 변경합니다\n",
    "        os.rename(old_file, new_file)\n",
    "        print(f\"{old_file} -> {new_file} 파일 이름 변경이 완료되었습니다.\")"
   ]
  }
 ],
 "metadata": {
  "kernelspec": {
   "display_name": "2dss",
   "language": "python",
   "name": "python3"
  },
  "language_info": {
   "codemirror_mode": {
    "name": "ipython",
    "version": 3
   },
   "file_extension": ".py",
   "mimetype": "text/x-python",
   "name": "python",
   "nbconvert_exporter": "python",
   "pygments_lexer": "ipython3",
   "version": "3.8.19"
  }
 },
 "nbformat": 4,
 "nbformat_minor": 2
}
